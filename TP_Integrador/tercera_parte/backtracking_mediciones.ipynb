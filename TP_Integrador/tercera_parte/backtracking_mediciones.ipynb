{
 "cells": [
  {
   "cell_type": "code",
   "execution_count": 1,
   "metadata": {},
   "outputs": [
    {
     "name": "stdout",
     "output_type": "stream",
     "text": [
      "tablero_optimo: [[1, 1, 0, 1, 0], [0, 0, 0, 1, 1], [0, 0, 0, 0, 0], [1, 0, 0, 0, 0], [1, 0, 0, 0, 0]]\n",
      "demanda_cumplida: 14\n",
      "demanda_total: 18\n"
     ]
    }
   ],
   "source": [
    "# Imports necesarios para el notebook\n",
    "import random\n",
    "\n",
    "from matplotlib import pyplot as plt\n",
    "import seaborn as sns\n",
    "import numpy as np\n",
    "import scipy as sp\n",
    "from collections import deque \n",
    "from backtracking import resolver_tablero\n",
    "\n",
    "from util import time_algorithm\n",
    "\n",
    "# Siempre seteamos la seed de aleatoridad para que los # resultados sean reproducibles\n",
    "random.seed(12345)\n",
    "np.random.seed(12345)\n",
    "\n",
    "sns.set_theme()"
   ]
  },
  {
   "cell_type": "code",
   "execution_count": 2,
   "metadata": {},
   "outputs": [
    {
     "ename": "ValueError",
     "evalue": "max_workers must be greater than 0",
     "output_type": "error",
     "traceback": [
      "\u001b[1;31m---------------------------------------------------------------------------\u001b[0m",
      "\u001b[1;31mValueError\u001b[0m                                Traceback (most recent call last)",
      "Cell \u001b[1;32mIn[2], line 8\u001b[0m\n\u001b[0;32m      3\u001b[0m \u001b[38;5;28;01mdef\u001b[39;00m \u001b[38;5;21mget_random_barcos\u001b[39m(s):\n\u001b[0;32m      4\u001b[0m     \u001b[38;5;66;03m# devuelve un array aleatorio de numeros mayores a 0 \u001b[39;00m\n\u001b[0;32m      5\u001b[0m     \u001b[38;5;28;01mreturn\u001b[39;00m [random\u001b[38;5;241m.\u001b[39mrandint(\u001b[38;5;241m1\u001b[39m, \u001b[38;5;241m100\u001b[39m) \u001b[38;5;28;01mfor\u001b[39;00m _ \u001b[38;5;129;01min\u001b[39;00m \u001b[38;5;28mrange\u001b[39m(s)]\n\u001b[1;32m----> 8\u001b[0m results \u001b[38;5;241m=\u001b[39m \u001b[43mtime_algorithm\u001b[49m\u001b[43m(\u001b[49m\u001b[43mresolver_tablero\u001b[49m\u001b[43m,\u001b[49m\u001b[43m \u001b[49m\u001b[43mx\u001b[49m\u001b[43m,\u001b[49m\u001b[43m \u001b[49m\u001b[38;5;28;43;01mlambda\u001b[39;49;00m\u001b[43m \u001b[49m\u001b[43ms\u001b[49m\u001b[43m:\u001b[49m\u001b[43m \u001b[49m\u001b[43m[\u001b[49m\u001b[43mget_random_barcos\u001b[49m\u001b[43m(\u001b[49m\u001b[43ms\u001b[49m\u001b[43m)\u001b[49m\u001b[43m]\u001b[49m\u001b[43m)\u001b[49m\n\u001b[0;32m     10\u001b[0m \u001b[38;5;28mprint\u001b[39m(results)\n",
      "File \u001b[1;32mc:\\Users\\machi\\OneDrive\\Documentos\\GitHub\\TDA-Integrador\\tercera_parte\\util.py:27\u001b[0m, in \u001b[0;36mtime_algorithm\u001b[1;34m(algorithm, sizes, get_args)\u001b[0m\n\u001b[0;32m     23\u001b[0m total_times \u001b[38;5;241m=\u001b[39m {i: \u001b[38;5;241m0\u001b[39m \u001b[38;5;28;01mfor\u001b[39;00m i \u001b[38;5;129;01min\u001b[39;00m sizes}\n\u001b[0;32m     25\u001b[0m \u001b[38;5;66;03m# Usa un ProcessPoolExecutor para ejecutar las mediciones en paralelo\u001b[39;00m\n\u001b[0;32m     26\u001b[0m \u001b[38;5;66;03m# (el ThreadPoolExecutor no sirve por el GIL de Python)\u001b[39;00m\n\u001b[1;32m---> 27\u001b[0m \u001b[38;5;28;01mwith\u001b[39;00m \u001b[43mProcessPoolExecutor\u001b[49m\u001b[43m(\u001b[49m\u001b[43mMAX_WORKERS\u001b[49m\u001b[43m)\u001b[49m \u001b[38;5;28;01mas\u001b[39;00m p:\n\u001b[0;32m     28\u001b[0m     \u001b[38;5;28;01mfor\u001b[39;00m i \u001b[38;5;129;01min\u001b[39;00m sizes:\n\u001b[0;32m     29\u001b[0m         \u001b[38;5;28;01mfor\u001b[39;00m _ \u001b[38;5;129;01min\u001b[39;00m \u001b[38;5;28mrange\u001b[39m(RUNS_PER_SIZE):\n",
      "File \u001b[1;32mC:\\Program Files\\WindowsApps\\PythonSoftwareFoundation.Python.3.11_3.11.2544.0_x64__qbz5n2kfra8p0\\Lib\\concurrent\\futures\\process.py:663\u001b[0m, in \u001b[0;36mProcessPoolExecutor.__init__\u001b[1;34m(self, max_workers, mp_context, initializer, initargs, max_tasks_per_child)\u001b[0m\n\u001b[0;32m    661\u001b[0m \u001b[38;5;28;01melse\u001b[39;00m:\n\u001b[0;32m    662\u001b[0m     \u001b[38;5;28;01mif\u001b[39;00m max_workers \u001b[38;5;241m<\u001b[39m\u001b[38;5;241m=\u001b[39m \u001b[38;5;241m0\u001b[39m:\n\u001b[1;32m--> 663\u001b[0m         \u001b[38;5;28;01mraise\u001b[39;00m \u001b[38;5;167;01mValueError\u001b[39;00m(\u001b[38;5;124m\"\u001b[39m\u001b[38;5;124mmax_workers must be greater than 0\u001b[39m\u001b[38;5;124m\"\u001b[39m)\n\u001b[0;32m    664\u001b[0m     \u001b[38;5;28;01melif\u001b[39;00m (sys\u001b[38;5;241m.\u001b[39mplatform \u001b[38;5;241m==\u001b[39m \u001b[38;5;124m'\u001b[39m\u001b[38;5;124mwin32\u001b[39m\u001b[38;5;124m'\u001b[39m \u001b[38;5;129;01mand\u001b[39;00m\n\u001b[0;32m    665\u001b[0m         max_workers \u001b[38;5;241m>\u001b[39m _MAX_WINDOWS_WORKERS):\n\u001b[0;32m    666\u001b[0m         \u001b[38;5;28;01mraise\u001b[39;00m \u001b[38;5;167;01mValueError\u001b[39;00m(\n\u001b[0;32m    667\u001b[0m             \u001b[38;5;124mf\u001b[39m\u001b[38;5;124m\"\u001b[39m\u001b[38;5;124mmax_workers must be <= \u001b[39m\u001b[38;5;132;01m{\u001b[39;00m_MAX_WINDOWS_WORKERS\u001b[38;5;132;01m}\u001b[39;00m\u001b[38;5;124m\"\u001b[39m)\n",
      "\u001b[1;31mValueError\u001b[0m: max_workers must be greater than 0"
     ]
    }
   ],
   "source": [
    "x = np.linspace(100, 10000, 20).astype(int)\n",
    "\n",
    "def get_random_barcos(s):\n",
    "    # devuelve un array aleatorio de numeros mayores a 0 \n",
    "    return [random.randint(1, 100) for _ in range(s)]\n",
    "\n",
    "\n",
    "results = time_algorithm(resolver_tablero, x, lambda s: [get_random_barcos(s)])\n",
    "\n",
    "print(results)"
   ]
  },
  {
   "cell_type": "code",
   "execution_count": null,
   "metadata": {},
   "outputs": [],
   "source": [
    "ax: plt.Axes\n",
    "fig, ax = plt.subplots()\n",
    "ax.plot(x, [results[i] for i in x], label=\"Medición\")\n",
    "ax.set_title('Tiempo de ejecución del backtracking')\n",
    "ax.set_xlabel('Tamaño del array')\n",
    "ax.set_ylabel('Tiempo de ejecución (s)')\n"
   ]
  },
  {
   "cell_type": "code",
   "execution_count": null,
   "metadata": {},
   "outputs": [],
   "source": [
    "# scipy nos pide una función que recibe primero x y luego los parámetros a ajustar:\n",
    "f = lambda x, c1, c2: c1 * x * np.log(x) + c2 \n",
    "\n",
    "c, pcov = sp.optimize.curve_fit(f, x, [results[n] for n in x])\n",
    "\n",
    "print(f\"c_1 = {c[0]}, c_2 = {c[1]}\")\n",
    "r = np.sum((c[0] * x * np.log(x) + c[1] - [results[n] for n in x])**2)\n",
    "print(f\"Error cuadrático total: {r}\")"
   ]
  },
  {
   "cell_type": "code",
   "execution_count": null,
   "metadata": {},
   "outputs": [],
   "source": [
    "ax.plot(x, [c[0] * n * np.log(n) + c[1] for n in x], 'r--', label=\"Ajuste\")\n",
    "ax.legend()\n",
    "fig"
   ]
  },
  {
   "cell_type": "code",
   "execution_count": null,
   "metadata": {},
   "outputs": [],
   "source": [
    "ax: plt.Axes\n",
    "fig, ax = plt.subplots()\n",
    "errors = [np.abs(c[0] * n * np.log(n) + c[1] - results[n]) for n in x]\n",
    "ax.plot(x, errors)\n",
    "ax.set_title('Error de ajuste')\n",
    "ax.set_xlabel('Tamaño del array')\n",
    "ax.set_ylabel('Error absoluto (s)')"
   ]
  }
 ],
 "metadata": {
  "kernelspec": {
   "display_name": "Python 3",
   "language": "python",
   "name": "python3"
  },
  "language_info": {
   "codemirror_mode": {
    "name": "ipython",
    "version": 3
   },
   "file_extension": ".py",
   "mimetype": "text/x-python",
   "name": "python",
   "nbconvert_exporter": "python",
   "pygments_lexer": "ipython3",
   "version": "3.12.4"
  }
 },
 "nbformat": 4,
 "nbformat_minor": 2
}
